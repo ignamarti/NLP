{
 "cells": [
  {
   "cell_type": "markdown",
   "metadata": {},
   "source": [
    "# <font color=#7db61c> Machine Learning en Python: Automatización NLP</font>\n",
    "\n",
    "\n",
    "\n",
    "En este notebook se muestra la aplicación de pipelines y validación cruzada al problema de clasificación de textos de reviews de IMDB."
   ]
  },
  {
   "cell_type": "markdown",
   "metadata": {},
   "source": [
    "## Clasificación de textos con pipelines\n",
    "\n",
    "A continuación se muestra una implementación del clasificador de reviews de películas de la clase anterior utilizando pipelines y selección de hiperparámetros."
   ]
  },
  {
   "cell_type": "code",
   "execution_count": 1,
   "metadata": {},
   "outputs": [],
   "source": [
    "import os\n",
    "import math\n",
    "import string\n",
    "import numpy as np\n",
    "import pandas as pd\n",
    "\n",
    "from nltk.corpus import stopwords\n",
    "from nltk.stem.porter import PorterStemmer\n",
    "\n",
    "from sklearn.base import BaseEstimator, TransformerMixin\n",
    "from sklearn.pipeline import Pipeline\n",
    "from sklearn.ensemble import ExtraTreesClassifier\n",
    "from sklearn import svm\n",
    "from sklearn.model_selection import GridSearchCV, StratifiedKFold, cross_val_score\n",
    "from sklearn.externals.joblib import Memory\n",
    "\n",
    "import matplotlib.pyplot as plt\n",
    "import seaborn as sns"
   ]
  },
  {
   "cell_type": "code",
   "execution_count": 2,
   "metadata": {},
   "outputs": [],
   "source": [
    "%matplotlib inline\n",
    "p_stem = PorterStemmer().stem\n",
    "s_words = set(stopwords.words('english'))|{'', 'br'}"
   ]
  },
  {
   "cell_type": "markdown",
   "metadata": {},
   "source": [
    "### Definición de los transformadores y pipelines"
   ]
  },
  {
   "cell_type": "code",
   "execution_count": 3,
   "metadata": {},
   "outputs": [],
   "source": [
    "class SimpleTokenizer(BaseEstimator, TransformerMixin):\n",
    "    def __init__(self, stop_words=False, stemmer=False, delete_chars=string.punctuation):\n",
    "        self.delete_chars = delete_chars\n",
    "        self.stop_words = stop_words\n",
    "        self.stemmer = stemmer\n",
    "    \n",
    "    def _get_words(self, txt):\n",
    "        word_list = (''.join([c if c not in self.delete_chars else ' ' for c in txt.lower()])).split(' ')\n",
    "        stem = p_stem if self.stemmer else lambda w: w \n",
    "        s_word_set = s_words if self.stop_words else set()\n",
    "        return list([stem(w) for w in word_list if w not in s_word_set])\n",
    "    \n",
    "    def fit(self, X, y=None):\n",
    "        return self\n",
    "    \n",
    "    def transform(self, X, y=None):\n",
    "        return list([self._get_words(di) for di in X])"
   ]
  },
  {
   "cell_type": "code",
   "execution_count": 4,
   "metadata": {},
   "outputs": [],
   "source": [
    "class SimpleVectorizer(BaseEstimator, TransformerMixin):\n",
    "    def __init__(self, min_count=0):\n",
    "        self.min_count = min_count\n",
    "    \n",
    "    def _text_to_vec(self, words):\n",
    "        word_counts = np.zeros((1,len(self._word_dict)))\n",
    "        for w in words:\n",
    "            if w in self._word_dict:\n",
    "                word_counts[0,self._word_dict[w]] += 1\n",
    "        return word_counts\n",
    "   \n",
    "    def fit(self, X, y=None):\n",
    "        self._word_list = sorted(list(set(sum(X,[]))))\n",
    "        self._word_dict = {w:i for i, w in enumerate(self._word_list)}\n",
    "        self._word_counts = np.sum(self.transform(X), axis=0, keepdims=True)\n",
    "        \n",
    "        if self.min_count > 0:\n",
    "            filt = self._word_counts[0,:] > self.min_count\n",
    "            self._word_list = [w for w, f in zip(self._word_list, filt) if f]\n",
    "            self._word_dict = {wi:ni for ni, wi in enumerate(self._word_list)}\n",
    "            self._word_counts = np.sum(self.transform(X), axis=0, keepdims=True)\n",
    "        return self\n",
    "    \n",
    "    def transform(self, X, y=None):\n",
    "        return np.concatenate([self._text_to_vec(stl) for stl in X], axis=0)"
   ]
  },
  {
   "cell_type": "code",
   "execution_count": 5,
   "metadata": {},
   "outputs": [],
   "source": [
    "class TfIdf(BaseEstimator, TransformerMixin):\n",
    "    def fit(self, X, y=None):\n",
    "        self._idf = 1 + np.log(X.shape[0] / np.sum(X > 0, axis=0, keepdims=True))\n",
    "        return self\n",
    "    \n",
    "    def transform(self, X, y=None):\n",
    "        return X*self._idf"
   ]
  },
  {
   "cell_type": "code",
   "execution_count": 6,
   "metadata": {},
   "outputs": [],
   "source": [
    "pip_extr = Pipeline([('tokenizer', SimpleTokenizer(stop_words=False, stemmer=False)), \n",
    "                     ('vectorizer', SimpleVectorizer(min_count=50)),\n",
    "                     ('tfidf', TfIdf()),\n",
    "                     ('linear_svc', ExtraTreesClassifier(n_estimators=250, random_state=123))])"
   ]
  },
  {
   "cell_type": "markdown",
   "metadata": {},
   "source": [
    "### Carga de datos"
   ]
  },
  {
   "cell_type": "code",
   "execution_count": 7,
   "metadata": {},
   "outputs": [],
   "source": [
    "pth = '/Users/....' #incorporar path donde se encuentra el dataset\n",
    "train_folders = ['train/pos/', 'train/neg/']\n",
    "test_folders = ['test/pos/', 'test/neg/']"
   ]
  },
  {
   "cell_type": "code",
   "execution_count": 8,
   "metadata": {},
   "outputs": [],
   "source": [
    "def readf(fn):\n",
    "    with open(fn, 'r', encoding='utf8') as ff:\n",
    "        ftx = ff.read()\n",
    "    return ftx"
   ]
  },
  {
   "cell_type": "code",
   "execution_count": 9,
   "metadata": {},
   "outputs": [
    {
     "ename": "FileNotFoundError",
     "evalue": "[Errno 2] No such file or directory: 'C:/Users/IBM_ADMIN/PythonNLP/aclImdb/train/pos/'",
     "output_type": "error",
     "traceback": [
      "\u001b[0;31m---------------------------------------------------------------------------\u001b[0m",
      "\u001b[0;31mFileNotFoundError\u001b[0m                         Traceback (most recent call last)",
      "\u001b[0;32m<ipython-input-9-af38b7fbce2c>\u001b[0m in \u001b[0;36m<module>\u001b[0;34m()\u001b[0m\n\u001b[0;32m----> 1\u001b[0;31m \u001b[0mtrain_files\u001b[0m \u001b[0;34m=\u001b[0m \u001b[0msum\u001b[0m\u001b[0;34m(\u001b[0m\u001b[0;34m[\u001b[0m\u001b[0;34m[\u001b[0m\u001b[0mpth\u001b[0m\u001b[0;34m+\u001b[0m\u001b[0mfold\u001b[0m\u001b[0;34m+\u001b[0m\u001b[0mfn\u001b[0m \u001b[0;32mfor\u001b[0m \u001b[0mfn\u001b[0m \u001b[0;32min\u001b[0m \u001b[0mos\u001b[0m\u001b[0;34m.\u001b[0m\u001b[0mlistdir\u001b[0m\u001b[0;34m(\u001b[0m\u001b[0mpth\u001b[0m\u001b[0;34m+\u001b[0m\u001b[0mfold\u001b[0m\u001b[0;34m)\u001b[0m\u001b[0;34m[\u001b[0m\u001b[0;34m:\u001b[0m\u001b[0;34m:\u001b[0m\u001b[0;36m10\u001b[0m\u001b[0;34m]\u001b[0m\u001b[0;34m]\u001b[0m \u001b[0;32mfor\u001b[0m \u001b[0mfold\u001b[0m \u001b[0;32min\u001b[0m \u001b[0mtrain_folders\u001b[0m\u001b[0;34m]\u001b[0m\u001b[0;34m,\u001b[0m\u001b[0;34m[\u001b[0m\u001b[0;34m]\u001b[0m\u001b[0;34m)\u001b[0m\u001b[0;34m\u001b[0m\u001b[0m\n\u001b[0m\u001b[1;32m      2\u001b[0m \u001b[0mtest_files\u001b[0m \u001b[0;34m=\u001b[0m \u001b[0msum\u001b[0m\u001b[0;34m(\u001b[0m\u001b[0;34m[\u001b[0m\u001b[0;34m[\u001b[0m\u001b[0mpth\u001b[0m\u001b[0;34m+\u001b[0m\u001b[0mfold\u001b[0m\u001b[0;34m+\u001b[0m\u001b[0mfn\u001b[0m \u001b[0;32mfor\u001b[0m \u001b[0mfn\u001b[0m \u001b[0;32min\u001b[0m \u001b[0mos\u001b[0m\u001b[0;34m.\u001b[0m\u001b[0mlistdir\u001b[0m\u001b[0;34m(\u001b[0m\u001b[0mpth\u001b[0m\u001b[0;34m+\u001b[0m\u001b[0mfold\u001b[0m\u001b[0;34m)\u001b[0m\u001b[0;34m[\u001b[0m\u001b[0;34m:\u001b[0m\u001b[0;34m:\u001b[0m\u001b[0;36m10\u001b[0m\u001b[0;34m]\u001b[0m\u001b[0;34m]\u001b[0m \u001b[0;32mfor\u001b[0m \u001b[0mfold\u001b[0m \u001b[0;32min\u001b[0m \u001b[0mtest_folders\u001b[0m\u001b[0;34m]\u001b[0m\u001b[0;34m,\u001b[0m\u001b[0;34m[\u001b[0m\u001b[0;34m]\u001b[0m\u001b[0;34m)\u001b[0m\u001b[0;34m\u001b[0m\u001b[0m\n\u001b[1;32m      3\u001b[0m \u001b[0mn_tr\u001b[0m \u001b[0;34m=\u001b[0m \u001b[0mint\u001b[0m\u001b[0;34m(\u001b[0m\u001b[0mlen\u001b[0m\u001b[0;34m(\u001b[0m\u001b[0mtrain_files\u001b[0m\u001b[0;34m)\u001b[0m\u001b[0;34m/\u001b[0m\u001b[0;36m2\u001b[0m\u001b[0;34m)\u001b[0m\u001b[0;34m\u001b[0m\u001b[0m\n\u001b[1;32m      4\u001b[0m \u001b[0mn_te\u001b[0m \u001b[0;34m=\u001b[0m \u001b[0mint\u001b[0m\u001b[0;34m(\u001b[0m\u001b[0mlen\u001b[0m\u001b[0;34m(\u001b[0m\u001b[0mtest_files\u001b[0m\u001b[0;34m)\u001b[0m\u001b[0;34m/\u001b[0m\u001b[0;36m2\u001b[0m\u001b[0;34m)\u001b[0m\u001b[0;34m\u001b[0m\u001b[0m\n",
      "\u001b[0;32m<ipython-input-9-af38b7fbce2c>\u001b[0m in \u001b[0;36m<listcomp>\u001b[0;34m(.0)\u001b[0m\n\u001b[0;32m----> 1\u001b[0;31m \u001b[0mtrain_files\u001b[0m \u001b[0;34m=\u001b[0m \u001b[0msum\u001b[0m\u001b[0;34m(\u001b[0m\u001b[0;34m[\u001b[0m\u001b[0;34m[\u001b[0m\u001b[0mpth\u001b[0m\u001b[0;34m+\u001b[0m\u001b[0mfold\u001b[0m\u001b[0;34m+\u001b[0m\u001b[0mfn\u001b[0m \u001b[0;32mfor\u001b[0m \u001b[0mfn\u001b[0m \u001b[0;32min\u001b[0m \u001b[0mos\u001b[0m\u001b[0;34m.\u001b[0m\u001b[0mlistdir\u001b[0m\u001b[0;34m(\u001b[0m\u001b[0mpth\u001b[0m\u001b[0;34m+\u001b[0m\u001b[0mfold\u001b[0m\u001b[0;34m)\u001b[0m\u001b[0;34m[\u001b[0m\u001b[0;34m:\u001b[0m\u001b[0;34m:\u001b[0m\u001b[0;36m10\u001b[0m\u001b[0;34m]\u001b[0m\u001b[0;34m]\u001b[0m \u001b[0;32mfor\u001b[0m \u001b[0mfold\u001b[0m \u001b[0;32min\u001b[0m \u001b[0mtrain_folders\u001b[0m\u001b[0;34m]\u001b[0m\u001b[0;34m,\u001b[0m\u001b[0;34m[\u001b[0m\u001b[0;34m]\u001b[0m\u001b[0;34m)\u001b[0m\u001b[0;34m\u001b[0m\u001b[0m\n\u001b[0m\u001b[1;32m      2\u001b[0m \u001b[0mtest_files\u001b[0m \u001b[0;34m=\u001b[0m \u001b[0msum\u001b[0m\u001b[0;34m(\u001b[0m\u001b[0;34m[\u001b[0m\u001b[0;34m[\u001b[0m\u001b[0mpth\u001b[0m\u001b[0;34m+\u001b[0m\u001b[0mfold\u001b[0m\u001b[0;34m+\u001b[0m\u001b[0mfn\u001b[0m \u001b[0;32mfor\u001b[0m \u001b[0mfn\u001b[0m \u001b[0;32min\u001b[0m \u001b[0mos\u001b[0m\u001b[0;34m.\u001b[0m\u001b[0mlistdir\u001b[0m\u001b[0;34m(\u001b[0m\u001b[0mpth\u001b[0m\u001b[0;34m+\u001b[0m\u001b[0mfold\u001b[0m\u001b[0;34m)\u001b[0m\u001b[0;34m[\u001b[0m\u001b[0;34m:\u001b[0m\u001b[0;34m:\u001b[0m\u001b[0;36m10\u001b[0m\u001b[0;34m]\u001b[0m\u001b[0;34m]\u001b[0m \u001b[0;32mfor\u001b[0m \u001b[0mfold\u001b[0m \u001b[0;32min\u001b[0m \u001b[0mtest_folders\u001b[0m\u001b[0;34m]\u001b[0m\u001b[0;34m,\u001b[0m\u001b[0;34m[\u001b[0m\u001b[0;34m]\u001b[0m\u001b[0;34m)\u001b[0m\u001b[0;34m\u001b[0m\u001b[0m\n\u001b[1;32m      3\u001b[0m \u001b[0mn_tr\u001b[0m \u001b[0;34m=\u001b[0m \u001b[0mint\u001b[0m\u001b[0;34m(\u001b[0m\u001b[0mlen\u001b[0m\u001b[0;34m(\u001b[0m\u001b[0mtrain_files\u001b[0m\u001b[0;34m)\u001b[0m\u001b[0;34m/\u001b[0m\u001b[0;36m2\u001b[0m\u001b[0;34m)\u001b[0m\u001b[0;34m\u001b[0m\u001b[0m\n\u001b[1;32m      4\u001b[0m \u001b[0mn_te\u001b[0m \u001b[0;34m=\u001b[0m \u001b[0mint\u001b[0m\u001b[0;34m(\u001b[0m\u001b[0mlen\u001b[0m\u001b[0;34m(\u001b[0m\u001b[0mtest_files\u001b[0m\u001b[0;34m)\u001b[0m\u001b[0;34m/\u001b[0m\u001b[0;36m2\u001b[0m\u001b[0;34m)\u001b[0m\u001b[0;34m\u001b[0m\u001b[0m\n",
      "\u001b[0;31mFileNotFoundError\u001b[0m: [Errno 2] No such file or directory: 'C:/Users/IBM_ADMIN/PythonNLP/aclImdb/train/pos/'"
     ]
    }
   ],
   "source": [
    "train_files = sum([[pth+fold+fn for fn in os.listdir(pth+fold)[::10]] for fold in train_folders],[])\n",
    "test_files = sum([[pth+fold+fn for fn in os.listdir(pth+fold)[::10]] for fold in test_folders],[])\n",
    "n_tr = int(len(train_files)/2)\n",
    "n_te = int(len(test_files)/2)"
   ]
  },
  {
   "cell_type": "code",
   "execution_count": 10,
   "metadata": {},
   "outputs": [
    {
     "ename": "NameError",
     "evalue": "name 'train_files' is not defined",
     "output_type": "error",
     "traceback": [
      "\u001b[0;31m---------------------------------------------------------------------------\u001b[0m",
      "\u001b[0;31mNameError\u001b[0m                                 Traceback (most recent call last)",
      "\u001b[0;32m<ipython-input-10-44f29e36896e>\u001b[0m in \u001b[0;36m<module>\u001b[0;34m()\u001b[0m\n\u001b[0;32m----> 1\u001b[0;31m \u001b[0mX_train\u001b[0m \u001b[0;34m=\u001b[0m \u001b[0;34m[\u001b[0m\u001b[0mreadf\u001b[0m\u001b[0;34m(\u001b[0m\u001b[0mfi\u001b[0m\u001b[0;34m)\u001b[0m \u001b[0;32mfor\u001b[0m \u001b[0mfi\u001b[0m \u001b[0;32min\u001b[0m \u001b[0mtrain_files\u001b[0m\u001b[0;34m]\u001b[0m\u001b[0;34m\u001b[0m\u001b[0m\n\u001b[0m\u001b[1;32m      2\u001b[0m \u001b[0my_train\u001b[0m \u001b[0;34m=\u001b[0m \u001b[0mnp\u001b[0m\u001b[0;34m.\u001b[0m\u001b[0marray\u001b[0m\u001b[0;34m(\u001b[0m\u001b[0;34m[\u001b[0m\u001b[0;36m1\u001b[0m\u001b[0;34m]\u001b[0m\u001b[0;34m*\u001b[0m\u001b[0mn_tr\u001b[0m \u001b[0;34m+\u001b[0m \u001b[0;34m[\u001b[0m\u001b[0;34m-\u001b[0m\u001b[0;36m1\u001b[0m\u001b[0;34m]\u001b[0m\u001b[0;34m*\u001b[0m\u001b[0mn_tr\u001b[0m\u001b[0;34m)\u001b[0m\u001b[0;34m\u001b[0m\u001b[0m\n\u001b[1;32m      3\u001b[0m \u001b[0mX_test\u001b[0m \u001b[0;34m=\u001b[0m \u001b[0;34m[\u001b[0m\u001b[0mreadf\u001b[0m\u001b[0;34m(\u001b[0m\u001b[0mfi\u001b[0m\u001b[0;34m)\u001b[0m \u001b[0;32mfor\u001b[0m \u001b[0mfi\u001b[0m \u001b[0;32min\u001b[0m \u001b[0mtest_files\u001b[0m\u001b[0;34m]\u001b[0m\u001b[0;34m\u001b[0m\u001b[0m\n\u001b[1;32m      4\u001b[0m \u001b[0my_test\u001b[0m \u001b[0;34m=\u001b[0m \u001b[0mnp\u001b[0m\u001b[0;34m.\u001b[0m\u001b[0marray\u001b[0m\u001b[0;34m(\u001b[0m\u001b[0;34m[\u001b[0m\u001b[0;36m1\u001b[0m\u001b[0;34m]\u001b[0m\u001b[0;34m*\u001b[0m\u001b[0mn_te\u001b[0m \u001b[0;34m+\u001b[0m \u001b[0;34m[\u001b[0m\u001b[0;34m-\u001b[0m\u001b[0;36m1\u001b[0m\u001b[0;34m]\u001b[0m\u001b[0;34m*\u001b[0m\u001b[0mn_te\u001b[0m\u001b[0;34m)\u001b[0m\u001b[0;34m\u001b[0m\u001b[0m\n",
      "\u001b[0;31mNameError\u001b[0m: name 'train_files' is not defined"
     ]
    }
   ],
   "source": [
    "X_train = [readf(fi) for fi in train_files]\n",
    "y_train = np.array([1]*n_tr + [-1]*n_tr)\n",
    "X_test = [readf(fi) for fi in test_files]\n",
    "y_test = np.array([1]*n_te + [-1]*n_te)"
   ]
  },
  {
   "cell_type": "markdown",
   "metadata": {},
   "source": [
    "### Pruebas"
   ]
  },
  {
   "cell_type": "code",
   "execution_count": 11,
   "metadata": {},
   "outputs": [
    {
     "name": "stdout",
     "output_type": "stream",
     "text": [
      "1.0\n",
      "0.8452\n"
     ]
    },
    {
     "data": {
      "text/plain": [
       "1149"
      ]
     },
     "execution_count": 11,
     "metadata": {},
     "output_type": "execute_result"
    }
   ],
   "source": [
    "pip_extr.fit(X_train, y_train)\n",
    "print(pip_extr.score(X_train, y_train))\n",
    "print(pip_extr.score(X_test, y_test))\n",
    "wcc = pip_extr.steps[1][1]\n",
    "len(wcc._word_list)"
   ]
  },
  {
   "cell_type": "markdown",
   "metadata": {},
   "source": [
    "### Búsqueda de hiperparámetros"
   ]
  },
  {
   "cell_type": "code",
   "execution_count": 12,
   "metadata": {
    "collapsed": true
   },
   "outputs": [],
   "source": [
    "min_count_list = [0, 1, 2, 3, 4, 5, 10, 20, 50, 100]"
   ]
  },
  {
   "cell_type": "code",
   "execution_count": null,
   "metadata": {
    "collapsed": true
   },
   "outputs": [],
   "source": [
    "imdb_grid = GridSearchCV(pip_extr,\n",
    "                         param_grid={'tokenizer__stop_words': [True, False],\n",
    "                                     'tokenizer__stemmer': [True, False],\n",
    "                                     'vectorizer__min_count': min_count_list},\n",
    "                         cv=StratifiedKFold(n_splits=10, random_state=123, shuffle=True),\n",
    "                         refit=True)\n",
    "imdb_grid.fit(X_train, y_train)"
   ]
  },
  {
   "cell_type": "code",
   "execution_count": 13,
   "metadata": {
    "collapsed": true
   },
   "outputs": [],
   "source": [
    "import pickle\n",
    "with open('imdb_grid_obj2.dat', 'rb') as ff:\n",
    "    imdb_grid = pickle.load(ff)"
   ]
  },
  {
   "cell_type": "code",
   "execution_count": 14,
   "metadata": {},
   "outputs": [
    {
     "name": "stderr",
     "output_type": "stream",
     "text": [
      "C:\\Users\\IBM_ADMIN\\Anaconda3\\envs\\py_ree\\lib\\site-packages\\sklearn\\model_selection\\_search.py:761: DeprecationWarning: The grid_scores_ attribute was deprecated in version 0.18 in favor of the more elaborate cv_results_ attribute. The grid_scores_ attribute will not be available from 0.20\n",
      "  DeprecationWarning)\n"
     ]
    }
   ],
   "source": [
    "imdb_grid_res = [(np.mean(fi[2]), np.std(fi[2]), \n",
    "                  ('No ' if not fi[0]['tokenizer__stop_words'] else '') + 'Stop Words, ' +  \n",
    "                  ('No ' if not fi[0]['tokenizer__stemmer'] else '') + 'Stemmer', \n",
    "                  fi[0]['vectorizer__min_count']) for i , fi in enumerate(imdb_grid.grid_scores_)]"
   ]
  },
  {
   "cell_type": "code",
   "execution_count": 15,
   "metadata": {},
   "outputs": [
    {
     "data": {
      "text/plain": [
       "[(0.84199999999999997, 0.024673872821265822, 'Stop Words, Stemmer', 0),\n",
       " (0.8408000000000001, 0.023033888078220734, 'Stop Words, Stemmer', 1),\n",
       " (0.8488, 0.016761861471805587, 'Stop Words, Stemmer', 2),\n",
       " (0.84519999999999995, 0.030986448650982903, 'Stop Words, Stemmer', 3),\n",
       " (0.83719999999999994, 0.0062096698785040153, 'Stop Words, Stemmer', 4),\n",
       " (0.84040000000000004, 0.019550959055759893, 'Stop Words, Stemmer', 5),\n",
       " (0.84040000000000004, 0.02362710308099578, 'Stop Words, Stemmer', 10),\n",
       " (0.83079999999999998, 0.019353552645444701, 'Stop Words, Stemmer', 20),\n",
       " (0.82119999999999993, 0.01688075827680733, 'Stop Words, Stemmer', 50),\n",
       " (0.81679999999999997, 0.013242356285797447, 'Stop Words, Stemmer', 100),\n",
       " (0.84000000000000008, 0.017888543819998333, 'No Stop Words, Stemmer', 0),\n",
       " (0.8428000000000001, 0.021245234759823199, 'No Stop Words, Stemmer', 1),\n",
       " (0.8348000000000001, 0.017255723688098371, 'No Stop Words, Stemmer', 2),\n",
       " (0.83160000000000012, 0.024228908353452479, 'No Stop Words, Stemmer', 3),\n",
       " (0.84079999999999999, 0.027235271248878708, 'No Stop Words, Stemmer', 4),\n",
       " (0.83719999999999994, 0.019599999999999985, 'No Stop Words, Stemmer', 5),\n",
       " (0.83360000000000001, 0.021105449533236668, 'No Stop Words, Stemmer', 10),\n",
       " (0.82639999999999991, 0.023946607275353207, 'No Stop Words, Stemmer', 20),\n",
       " (0.82520000000000004, 0.027191175038971723, 'No Stop Words, Stemmer', 50),\n",
       " (0.81320000000000014, 0.022346364357541459, 'No Stop Words, Stemmer', 100),\n",
       " (0.84040000000000004, 0.019550959055759896, 'Stop Words, No Stemmer', 0),\n",
       " (0.84559999999999991, 0.015818975946628164, 'Stop Words, No Stemmer', 1),\n",
       " (0.84640000000000004, 0.012289833196589784, 'Stop Words, No Stemmer', 2),\n",
       " (0.8348000000000001, 0.020711349545599392, 'Stop Words, No Stemmer', 3),\n",
       " (0.84400000000000008, 0.016198765385053264, 'Stop Words, No Stemmer', 4),\n",
       " (0.84120000000000006, 0.019923855048659653, 'Stop Words, No Stemmer', 5),\n",
       " (0.83879999999999999, 0.020711349545599382, 'Stop Words, No Stemmer', 10),\n",
       " (0.83520000000000005, 0.018312837027615336, 'Stop Words, No Stemmer', 20),\n",
       " (0.8276, 0.015538339679643992, 'Stop Words, No Stemmer', 50),\n",
       " (0.80000000000000004, 0.022978250586152098, 'Stop Words, No Stemmer', 100),\n",
       " (0.82519999999999993, 0.021094074997496319, 'No Stop Words, No Stemmer', 0),\n",
       " (0.83879999999999999, 0.018421726303471143, 'No Stop Words, No Stemmer', 1),\n",
       " (0.83800000000000008, 0.012930583900195702, 'No Stop Words, No Stemmer', 2),\n",
       " (0.8276, 0.02112439348241741, 'No Stop Words, No Stemmer', 3),\n",
       " (0.83240000000000003, 0.014691494137765547, 'No Stop Words, No Stemmer', 4),\n",
       " (0.83240000000000003, 0.023217234977490307, 'No Stop Words, No Stemmer', 5),\n",
       " (0.83560000000000001, 0.015435025105259783, 'No Stop Words, No Stemmer', 10),\n",
       " (0.83240000000000003, 0.015944905142395781, 'No Stop Words, No Stemmer', 20),\n",
       " (0.8308000000000002, 0.026596240335806844, 'No Stop Words, No Stemmer', 50),\n",
       " (0.80240000000000011, 0.023405982141324454, 'No Stop Words, No Stemmer', 100)]"
      ]
     },
     "execution_count": 15,
     "metadata": {},
     "output_type": "execute_result"
    }
   ],
   "source": [
    "imdb_grid_res"
   ]
  },
  {
   "cell_type": "code",
   "execution_count": 16,
   "metadata": {
    "collapsed": true
   },
   "outputs": [],
   "source": [
    "imdb_res_dict = {rw[2]:[rw2[0] for rw2 in imdb_grid_res if rw2[2]==rw[2]] for rw in imdb_grid_res}\n",
    "imdb_res_df = pd.DataFrame(imdb_res_dict, index=min_count_list)"
   ]
  },
  {
   "cell_type": "code",
   "execution_count": 17,
   "metadata": {},
   "outputs": [
    {
     "data": {
      "text/plain": [
       "<matplotlib.axes._subplots.AxesSubplot at 0xd004208>"
      ]
     },
     "execution_count": 17,
     "metadata": {},
     "output_type": "execute_result"
    },
    {
     "data": {
      "image/png": "[encoded data removed]",
      "text/plain": [
       "<matplotlib.figure.Figure at 0xd0025c0>"
      ]
     },
     "metadata": {},
     "output_type": "display_data"
    }
   ],
   "source": [
    "imdb_res_df.plot(figsize=(16,6), logx=True, marker='o')"
   ]
  },
  {
   "cell_type": "code",
   "execution_count": 18,
   "metadata": {},
   "outputs": [
    {
     "data": {
      "text/plain": [
       "{'tokenizer__stemmer': True,\n",
       " 'tokenizer__stop_words': True,\n",
       " 'vectorizer__min_count': 2}"
      ]
     },
     "execution_count": 18,
     "metadata": {},
     "output_type": "execute_result"
    }
   ],
   "source": [
    "imdb_grid.best_params_"
   ]
  },
  {
   "cell_type": "markdown",
   "metadata": {},
   "source": [
    "### Evaluación final del modelo"
   ]
  },
  {
   "cell_type": "code",
   "execution_count": 19,
   "metadata": {},
   "outputs": [
    {
     "data": {
      "text/plain": [
       "1.0"
      ]
     },
     "execution_count": 19,
     "metadata": {},
     "output_type": "execute_result"
    }
   ],
   "source": [
    "imdb_grid.best_estimator_.score(X=X_train, y=y_train)"
   ]
  },
  {
   "cell_type": "code",
   "execution_count": 20,
   "metadata": {},
   "outputs": [
    {
     "data": {
      "text/plain": [
       "0.86560000000000004"
      ]
     },
     "execution_count": 20,
     "metadata": {},
     "output_type": "execute_result"
    }
   ],
   "source": [
    "imdb_grid.best_estimator_.score(X=X_test, y=y_test)"
   ]
  },
  {
   "cell_type": "code",
   "execution_count": null,
   "metadata": {
    "collapsed": true
   },
   "outputs": [],
   "source": []
  }
 ],
 "metadata": {
  "kernelspec": {
   "display_name": "Python 3",
   "language": "python",
   "name": "python3"
  },
  "language_info": {
   "codemirror_mode": {
    "name": "ipython",
    "version": 3
   },
   "file_extension": ".py",
   "mimetype": "text/x-python",
   "name": "python",
   "nbconvert_exporter": "python",
   "pygments_lexer": "ipython3",
   "version": "3.6.4"
  }
 },
 "nbformat": 4,
 "nbformat_minor": 2
}
